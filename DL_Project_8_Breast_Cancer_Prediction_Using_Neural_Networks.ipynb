{
  "nbformat": 4,
  "nbformat_minor": 0,
  "metadata": {
    "colab": {
      "provenance": [],
      "gpuType": "T4",
      "authorship_tag": "ABX9TyNILkQYSvJVZXujQUfcfUPM",
      "include_colab_link": true
    },
    "kernelspec": {
      "name": "python3",
      "display_name": "Python 3"
    },
    "language_info": {
      "name": "python"
    },
    "accelerator": "GPU"
  },
  "cells": [
    {
      "cell_type": "markdown",
      "metadata": {
        "id": "view-in-github",
        "colab_type": "text"
      },
      "source": [
        "<a href=\"https://colab.research.google.com/github/HarishSidagam8/Deep-Learning-Projects/blob/main/DL_Project_8_Breast_Cancer_Prediction_Using_Neural_Networks.ipynb\" target=\"_parent\"><img src=\"https://colab.research.google.com/assets/colab-badge.svg\" alt=\"Open In Colab\"/></a>"
      ]
    },
    {
      "cell_type": "code",
      "execution_count": 1,
      "metadata": {
        "id": "oKPR-s3OvXWz"
      },
      "outputs": [],
      "source": [
        "# Importing dependencies\n",
        "import torch\n",
        "import torch.nn as nn\n",
        "import torch.optim as optim\n",
        "from sklearn.datasets import load_breast_cancer\n",
        "from sklearn.model_selection import train_test_split\n",
        "from sklearn.preprocessing import StandardScaler"
      ]
    },
    {
      "cell_type": "code",
      "source": [
        "# device configuration\n",
        "device = torch.device('cuda' if torch.cuda.is_available() else 'cpu')"
      ],
      "metadata": {
        "id": "OJ_-I0hBvxMf"
      },
      "execution_count": 2,
      "outputs": []
    },
    {
      "cell_type": "code",
      "source": [
        "device"
      ],
      "metadata": {
        "colab": {
          "base_uri": "https://localhost:8080/"
        },
        "id": "Piw0LW1hv5or",
        "outputId": "3674761f-aa79-4ea0-befd-356780088d61"
      },
      "execution_count": 3,
      "outputs": [
        {
          "output_type": "execute_result",
          "data": {
            "text/plain": [
              "device(type='cpu')"
            ]
          },
          "metadata": {},
          "execution_count": 3
        }
      ]
    },
    {
      "cell_type": "code",
      "source": [
        "# Data collection and preprocessing\n",
        "data = load_breast_cancer()\n",
        "x, y = data.data, data.target"
      ],
      "metadata": {
        "id": "ZOkJZrHNwBWh"
      },
      "execution_count": 5,
      "outputs": []
    },
    {
      "cell_type": "code",
      "source": [
        "print(x,y)"
      ],
      "metadata": {
        "colab": {
          "base_uri": "https://localhost:8080/"
        },
        "id": "XT4Rwp_9wKJI",
        "outputId": "30225718-9529-4504-ffcd-930eb6269a7f"
      },
      "execution_count": 6,
      "outputs": [
        {
          "output_type": "stream",
          "name": "stdout",
          "text": [
            "[[1.799e+01 1.038e+01 1.228e+02 ... 2.654e-01 4.601e-01 1.189e-01]\n",
            " [2.057e+01 1.777e+01 1.329e+02 ... 1.860e-01 2.750e-01 8.902e-02]\n",
            " [1.969e+01 2.125e+01 1.300e+02 ... 2.430e-01 3.613e-01 8.758e-02]\n",
            " ...\n",
            " [1.660e+01 2.808e+01 1.083e+02 ... 1.418e-01 2.218e-01 7.820e-02]\n",
            " [2.060e+01 2.933e+01 1.401e+02 ... 2.650e-01 4.087e-01 1.240e-01]\n",
            " [7.760e+00 2.454e+01 4.792e+01 ... 0.000e+00 2.871e-01 7.039e-02]] [0 0 0 0 0 0 0 0 0 0 0 0 0 0 0 0 0 0 0 1 1 1 0 0 0 0 0 0 0 0 0 0 0 0 0 0 0\n",
            " 1 0 0 0 0 0 0 0 0 1 0 1 1 1 1 1 0 0 1 0 0 1 1 1 1 0 1 0 0 1 1 1 1 0 1 0 0\n",
            " 1 0 1 0 0 1 1 1 0 0 1 0 0 0 1 1 1 0 1 1 0 0 1 1 1 0 0 1 1 1 1 0 1 1 0 1 1\n",
            " 1 1 1 1 1 1 0 0 0 1 0 0 1 1 1 0 0 1 0 1 0 0 1 0 0 1 1 0 1 1 0 1 1 1 1 0 1\n",
            " 1 1 1 1 1 1 1 1 0 1 1 1 1 0 0 1 0 1 1 0 0 1 1 0 0 1 1 1 1 0 1 1 0 0 0 1 0\n",
            " 1 0 1 1 1 0 1 1 0 0 1 0 0 0 0 1 0 0 0 1 0 1 0 1 1 0 1 0 0 0 0 1 1 0 0 1 1\n",
            " 1 0 1 1 1 1 1 0 0 1 1 0 1 1 0 0 1 0 1 1 1 1 0 1 1 1 1 1 0 1 0 0 0 0 0 0 0\n",
            " 0 0 0 0 0 0 0 1 1 1 1 1 1 0 1 0 1 1 0 1 1 0 1 0 0 1 1 1 1 1 1 1 1 1 1 1 1\n",
            " 1 0 1 1 0 1 0 1 1 1 1 1 1 1 1 1 1 1 1 1 1 0 1 1 1 0 1 0 1 1 1 1 0 0 0 1 1\n",
            " 1 1 0 1 0 1 0 1 1 1 0 1 1 1 1 1 1 1 0 0 0 1 1 1 1 1 1 1 1 1 1 1 0 0 1 0 0\n",
            " 0 1 0 0 1 1 1 1 1 0 1 1 1 1 1 0 1 1 1 0 1 1 0 0 1 1 1 1 1 1 0 1 1 1 1 1 1\n",
            " 1 0 1 1 1 1 1 0 1 1 0 1 1 1 1 1 1 1 1 1 1 1 1 0 1 0 0 1 0 1 1 1 1 1 0 1 1\n",
            " 0 1 0 1 1 0 1 0 1 1 1 1 1 1 1 1 0 0 1 1 1 1 1 1 0 1 1 1 1 1 1 1 1 1 1 0 1\n",
            " 1 1 1 1 1 1 0 1 0 1 1 0 1 1 1 1 1 0 0 1 0 1 0 1 1 1 1 1 0 1 1 0 1 0 1 0 0\n",
            " 1 1 1 0 1 1 1 1 1 1 1 1 1 1 1 0 1 0 0 1 1 1 1 1 1 1 1 1 1 1 1 1 1 1 1 1 1\n",
            " 1 1 1 1 1 1 1 0 0 0 0 0 0 1]\n"
          ]
        }
      ]
    },
    {
      "cell_type": "code",
      "source": [
        "# splitting featrures and target\n",
        "x_train, x_test, y_train, y_test = train_test_split(x, y, test_size=0.2, random_state=42)"
      ],
      "metadata": {
        "id": "SrF7y1Z2wSWo"
      },
      "execution_count": 11,
      "outputs": []
    },
    {
      "cell_type": "code",
      "source": [
        "print(x.shape, x_train.shape, x_test.shape)"
      ],
      "metadata": {
        "colab": {
          "base_uri": "https://localhost:8080/"
        },
        "id": "hSpXRJv3waiU",
        "outputId": "112f87a2-7e2d-4b13-d20a-5e13959a0eb2"
      },
      "execution_count": 13,
      "outputs": [
        {
          "output_type": "stream",
          "name": "stdout",
          "text": [
            "(569, 30) (455, 30) (114, 30)\n"
          ]
        }
      ]
    },
    {
      "cell_type": "code",
      "source": [
        "# Standardizing data\n",
        "scalar=StandardScaler()\n",
        "x_train=scalar.fit_transform(x_train)\n",
        "x_test=scalar.transform(x_test)"
      ],
      "metadata": {
        "id": "acso6u5owkTU"
      },
      "execution_count": 14,
      "outputs": []
    },
    {
      "cell_type": "code",
      "source": [
        "type(x_train)"
      ],
      "metadata": {
        "colab": {
          "base_uri": "https://localhost:8080/"
        },
        "id": "RX3vhTzYw8WT",
        "outputId": "92c2ddd6-8140-45ce-d28d-7ab2cb10b0f0"
      },
      "execution_count": 15,
      "outputs": [
        {
          "output_type": "execute_result",
          "data": {
            "text/plain": [
              "numpy.ndarray"
            ]
          },
          "metadata": {},
          "execution_count": 15
        }
      ]
    },
    {
      "cell_type": "code",
      "source": [
        "#convert the data to pytorch tensors and move to gpu\n",
        "x_train=torch.tensor(x_train).to(device)\n",
        "x_test=torch.tensor(x_test).to(device)\n",
        "y_train=torch.tensor(y_train, dtype=torch.float32).to(device)\n",
        "y_test=torch.tensor(y_test, dtype=torch.float32).to(device)"
      ],
      "metadata": {
        "colab": {
          "base_uri": "https://localhost:8080/"
        },
        "id": "vWXycieTw_NJ",
        "outputId": "c5f6072f-3eb9-4e22-cc7d-ad6570def999"
      },
      "execution_count": 28,
      "outputs": [
        {
          "output_type": "stream",
          "name": "stderr",
          "text": [
            "/tmp/ipython-input-3263378762.py:2: UserWarning: To copy construct from a tensor, it is recommended to use sourceTensor.clone().detach() or sourceTensor.clone().detach().requires_grad_(True), rather than torch.tensor(sourceTensor).\n",
            "  x_train=torch.tensor(x_train).to(device)\n",
            "/tmp/ipython-input-3263378762.py:3: UserWarning: To copy construct from a tensor, it is recommended to use sourceTensor.clone().detach() or sourceTensor.clone().detach().requires_grad_(True), rather than torch.tensor(sourceTensor).\n",
            "  x_test=torch.tensor(x_test).to(device)\n",
            "/tmp/ipython-input-3263378762.py:4: UserWarning: To copy construct from a tensor, it is recommended to use sourceTensor.clone().detach() or sourceTensor.clone().detach().requires_grad_(True), rather than torch.tensor(sourceTensor).\n",
            "  y_train=torch.tensor(y_train, dtype=torch.float32).to(device)\n",
            "/tmp/ipython-input-3263378762.py:5: UserWarning: To copy construct from a tensor, it is recommended to use sourceTensor.clone().detach() or sourceTensor.clone().detach().requires_grad_(True), rather than torch.tensor(sourceTensor).\n",
            "  y_test=torch.tensor(y_test, dtype=torch.float32).to(device)\n"
          ]
        }
      ]
    },
    {
      "cell_type": "code",
      "source": [
        "# Neural Network Archietecture\n",
        "class BreastCancerClassifier(nn.Module):\n",
        "    def __init__(self,input_size,hidden_size,output_size):\n",
        "        super(BreastCancerClassifier, self).__init__()\n",
        "        self.fc1=nn.Linear(input_size,hidden_size)\n",
        "        self.relu=nn.ReLU()\n",
        "        self.fc2=nn.Linear(hidden_size,output_size)\n",
        "        self.sigmoid=nn.Sigmoid()\n",
        "    def forward(self,x):\n",
        "        out=self.fc1(x)\n",
        "        out=self.relu(out)\n",
        "        out=self.fc2(out)\n",
        "        out=self.sigmoid(out)\n",
        "        return out\n"
      ],
      "metadata": {
        "id": "r33uusuyxakn"
      },
      "execution_count": 29,
      "outputs": []
    },
    {
      "cell_type": "code",
      "source": [
        "# Define Hyperparameters\n",
        "input_size=x_train.shape[1]\n",
        "hidden_size=64\n",
        "output_size=1\n",
        "learning_rate=0.001\n",
        "num_epochs=100\n",
        "batch_size=32"
      ],
      "metadata": {
        "id": "nKfOJr-SzGzU"
      },
      "execution_count": 30,
      "outputs": []
    },
    {
      "cell_type": "code",
      "source": [
        "# Intilaize the model\n",
        "model=BreastCancerClassifier(input_size,hidden_size,output_size).to(device)"
      ],
      "metadata": {
        "id": "SMC00Wl20Ok2"
      },
      "execution_count": 31,
      "outputs": []
    },
    {
      "cell_type": "code",
      "source": [
        "#define the loss and optimizer\n",
        "criterion=nn.BCELoss()\n",
        "optimizer=optim.Adam(model.parameters(),lr=learning_rate)"
      ],
      "metadata": {
        "id": "FOkATwkn0nVT"
      },
      "execution_count": 32,
      "outputs": []
    },
    {
      "cell_type": "code",
      "source": [
        "# Training the neural network\n",
        "for epoch in range(num_epochs):\n",
        "  model.train()\n",
        "  optimizer.zero_grad()\n",
        "  outputs=model(x_train)\n",
        "  loss=criterion(outputs,y_train.view(-1,1))\n",
        "  loss.backward()\n",
        "  optimizer.step()"
      ],
      "metadata": {
        "id": "oVuJNdrO1C5m"
      },
      "execution_count": 33,
      "outputs": []
    },
    {
      "cell_type": "code",
      "source": [
        "# claculate accuracy\n",
        "with torch.no_grad():\n",
        "  predicted = outputs.round()\n",
        "  correct = (predicted == y_train.view(-1, 1)).sum().item()\n",
        "  accuracy = correct / y_train.size(0)\n",
        "\n",
        "  if (epoch + 1) % 10 == 0:\n",
        "    print(f'Epoch |{epoch+1}/{num_epochs}|, Loss :{loss.item():.4f},Accuracy: {accuracy*100:.2f}%')"
      ],
      "metadata": {
        "colab": {
          "base_uri": "https://localhost:8080/"
        },
        "id": "fp9fmv0m2Gmi",
        "outputId": "f8318429-3750-4cd9-f9d6-f5a1f38667d7"
      },
      "execution_count": 37,
      "outputs": [
        {
          "output_type": "stream",
          "name": "stdout",
          "text": [
            "Epoch |100/100|, Loss :0.1129,Accuracy: 97.36%\n"
          ]
        }
      ]
    },
    {
      "cell_type": "code",
      "source": [
        "# modelEvaluation\n",
        "model.eval()\n",
        "with torch.no_grad():\n",
        "  outputs=model(x_train)\n",
        "  predicted=outputs.round()\n",
        "  correct=(predicted==y_train.view(-1,1)).float().sum()\n",
        "  accuracy=correct/y_train.size(0)\n",
        "  print(f'Train Accuracy: {accuracy*100:.2f}%')"
      ],
      "metadata": {
        "colab": {
          "base_uri": "https://localhost:8080/"
        },
        "id": "9RufQ66h7D0U",
        "outputId": "3177da66-cb43-43f6-bd71-aad390436682"
      },
      "execution_count": 39,
      "outputs": [
        {
          "output_type": "stream",
          "name": "stdout",
          "text": [
            "Train Accuracy: 97.36%\n"
          ]
        }
      ]
    },
    {
      "cell_type": "code",
      "source": [
        "# Evaluation on test data\n",
        "model.eval()\n",
        "with torch.no_grad():\n",
        "  outputs=model(x_test)\n",
        "  predicted=outputs.round()\n",
        "  correct=(predicted==y_test.view(-1,1)).float().sum()\n",
        "  accuracy=correct/y_test.size(0)\n",
        "  print(f'Test Accuracy: {accuracy*100:.2f}%')"
      ],
      "metadata": {
        "colab": {
          "base_uri": "https://localhost:8080/"
        },
        "id": "giEwEZm18lVT",
        "outputId": "48f59d54-7467-45a6-a59f-160e34ee1050"
      },
      "execution_count": 40,
      "outputs": [
        {
          "output_type": "stream",
          "name": "stdout",
          "text": [
            "Test Accuracy: 97.37%\n"
          ]
        }
      ]
    },
    {
      "cell_type": "code",
      "source": [],
      "metadata": {
        "id": "f_ElVRkS89gd"
      },
      "execution_count": null,
      "outputs": []
    }
  ]
}